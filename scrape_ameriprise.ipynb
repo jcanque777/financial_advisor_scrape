{
 "cells": [
  {
   "cell_type": "code",
   "execution_count": 7,
   "metadata": {},
   "outputs": [],
   "source": [
    "import pandas as pd\n",
    "import numpy as np\n",
    "\n",
    "from selenium import webdriver\n",
    "from selenium.webdriver.common.keys import Keys\n",
    "from selenium.webdriver.common.by import By\n",
    "from selenium.webdriver.support.ui import WebDriverWait\n",
    "from selenium.webdriver.support import expected_conditions as EC\n",
    "\n",
    "import requests\n",
    "from tqdm import tqdm_notebook as tqdm\n",
    "import time\n",
    "import random\n",
    "\n",
    "from bs4 import BeautifulSoup\n",
    "from copy import deepcopy"
   ]
  },
  {
   "cell_type": "code",
   "execution_count": 8,
   "metadata": {
    "scrolled": true
   },
   "outputs": [],
   "source": [
    "# boot up scraper for chrome\n",
    "driver = webdriver.Chrome()"
   ]
  },
  {
   "cell_type": "code",
   "execution_count": 314,
   "metadata": {},
   "outputs": [],
   "source": [
    "# go to ameriprise website\n",
    "driver.get('https://www.ameripriseadvisors.com/')"
   ]
  },
  {
   "cell_type": "markdown",
   "metadata": {},
   "source": [
    "# Isolate each box/container"
   ]
  },
  {
   "cell_type": "code",
   "execution_count": 317,
   "metadata": {},
   "outputs": [],
   "source": [
    "# use beautiful soup to load website information\n",
    "soup = BeautifulSoup(driver.page_source)"
   ]
  },
  {
   "cell_type": "code",
   "execution_count": 318,
   "metadata": {},
   "outputs": [
    {
     "data": {
      "text/plain": [
       "254"
      ]
     },
     "execution_count": 318,
     "metadata": {},
     "output_type": "execute_result"
    }
   ],
   "source": [
    "# match number of ameriprise advisors\n",
    "len(soup.find_all('div',{'class':'right-pane'}))"
   ]
  },
  {
   "cell_type": "code",
   "execution_count": 319,
   "metadata": {},
   "outputs": [],
   "source": [
    "# save each container to a list\n",
    "advisor_list = soup.find_all('div',{'class':'right-pane'})"
   ]
  },
  {
   "cell_type": "markdown",
   "metadata": {},
   "source": [
    "## Get Name"
   ]
  },
  {
   "cell_type": "code",
   "execution_count": 35,
   "metadata": {},
   "outputs": [
    {
     "data": {
      "text/plain": [
       "'Vasso & Associates'"
      ]
     },
     "execution_count": 35,
     "metadata": {},
     "output_type": "execute_result"
    }
   ],
   "source": [
    "# code to get name\n",
    "advisor_list[0].find('h3').text"
   ]
  },
  {
   "cell_type": "markdown",
   "metadata": {},
   "source": [
    "## Get Titles"
   ]
  },
  {
   "cell_type": "code",
   "execution_count": 73,
   "metadata": {},
   "outputs": [
    {
     "data": {
      "text/plain": [
       "'Private Wealth Advisor\\n • Vasso & Associates\\n'"
      ]
     },
     "execution_count": 73,
     "metadata": {},
     "output_type": "execute_result"
    }
   ],
   "source": [
    "# find advisor title: some are more important that others\n",
    "advisor_list[1].find('p', {'class':'title'}).text"
   ]
  },
  {
   "cell_type": "code",
   "execution_count": 315,
   "metadata": {},
   "outputs": [],
   "source": [
    "# # iterate through advisor list to check for mistakes\n",
    "# # spits out '\\n'\n",
    "# for i in advisor_list:\n",
    "#     print(i.find('h3').text)\n",
    "#     print(i.find('p', {'class':'title'}).text)\n",
    "#     print('\\n')"
   ]
  },
  {
   "cell_type": "markdown",
   "metadata": {},
   "source": [
    "### Team affiliation is after * charachter"
   ]
  },
  {
   "cell_type": "code",
   "execution_count": 75,
   "metadata": {},
   "outputs": [
    {
     "data": {
      "text/plain": [
       "'Private Wealth Advisor\\n • Vasso & Associates\\n'"
      ]
     },
     "execution_count": 75,
     "metadata": {},
     "output_type": "execute_result"
    }
   ],
   "source": [
    "# find team that advisor is on\n",
    "advisor_list[1].find('p', {'class':'title'}).text"
   ]
  },
  {
   "cell_type": "markdown",
   "metadata": {},
   "source": [
    "## Phone"
   ]
  },
  {
   "cell_type": "code",
   "execution_count": 76,
   "metadata": {},
   "outputs": [
    {
     "data": {
      "text/plain": [
       "'972.692.5069'"
      ]
     },
     "execution_count": 76,
     "metadata": {},
     "output_type": "execute_result"
    }
   ],
   "source": [
    "# find phone number\n",
    "advisor_list[1].find('a', {'class':'phone-link'}).text"
   ]
  },
  {
   "cell_type": "markdown",
   "metadata": {},
   "source": [
    "## Email"
   ]
  },
  {
   "cell_type": "code",
   "execution_count": 92,
   "metadata": {},
   "outputs": [
    {
     "data": {
      "text/plain": [
       "'mailto:neal.d.vasso@ampf.com'"
      ]
     },
     "execution_count": 92,
     "metadata": {},
     "output_type": "execute_result"
    }
   ],
   "source": [
    "# find email address\n",
    "advisor_list[1].find('p', {'class':'email'}).find('a', href=True)['href']"
   ]
  },
  {
   "cell_type": "code",
   "execution_count": 95,
   "metadata": {},
   "outputs": [],
   "source": [
    "# # test \n",
    "# for i in advisor_list:\n",
    "#     print(i.find('p', {'class':'email'}).find('a', href=True)['href'])"
   ]
  },
  {
   "cell_type": "markdown",
   "metadata": {},
   "source": [
    "## Address"
   ]
  },
  {
   "cell_type": "code",
   "execution_count": 101,
   "metadata": {},
   "outputs": [
    {
     "data": {
      "text/plain": [
       "'\\n5000 Quorum Dr Ste 375\\n\\nDallas, TX 75254-7091\\n'"
      ]
     },
     "execution_count": 101,
     "metadata": {},
     "output_type": "execute_result"
    }
   ],
   "source": [
    "# find address\n",
    "advisor_list[1].find('a', {'class':'address'}).text"
   ]
  },
  {
   "cell_type": "code",
   "execution_count": 105,
   "metadata": {},
   "outputs": [],
   "source": [
    "# # test \n",
    "# for i in advisor_list:\n",
    "#     print(i.find('a', {'class':'address'}).text)\n",
    "#     print('\\n')"
   ]
  },
  {
   "cell_type": "markdown",
   "metadata": {},
   "source": [
    "## Link to website"
   ]
  },
  {
   "cell_type": "code",
   "execution_count": 107,
   "metadata": {},
   "outputs": [
    {
     "data": {
      "text/plain": [
       "'/neal.d.vasso/?awsrc='"
      ]
     },
     "execution_count": 107,
     "metadata": {},
     "output_type": "execute_result"
    }
   ],
   "source": [
    "# find link to website\n",
    "advisor_list[1].find('a', href=True)['href']\n"
   ]
  },
  {
   "cell_type": "code",
   "execution_count": 109,
   "metadata": {},
   "outputs": [],
   "source": [
    "# # test \n",
    "# for i in advisor_list:\n",
    "#     print(i.find('a', href=True)['href'])\n",
    "#     print('\\n')"
   ]
  },
  {
   "cell_type": "code",
   "execution_count": null,
   "metadata": {},
   "outputs": [],
   "source": []
  },
  {
   "cell_type": "markdown",
   "metadata": {},
   "source": [
    "# sample pipeline"
   ]
  },
  {
   "cell_type": "code",
   "execution_count": 361,
   "metadata": {},
   "outputs": [],
   "source": [
    "# # create a list of advisors\n",
    "# list_of_advisor_dicts = []"
   ]
  },
  {
   "cell_type": "code",
   "execution_count": 362,
   "metadata": {},
   "outputs": [],
   "source": [
    "# save page information\n",
    "soup = BeautifulSoup(driver.page_source)"
   ]
  },
  {
   "cell_type": "code",
   "execution_count": 363,
   "metadata": {},
   "outputs": [],
   "source": [
    "# create list of advisors from page\n",
    "advisor_list = soup.find_all('div',{'class':'right-pane'})"
   ]
  },
  {
   "cell_type": "code",
   "execution_count": 364,
   "metadata": {},
   "outputs": [
    {
     "data": {
      "text/plain": [
       "30"
      ]
     },
     "execution_count": 364,
     "metadata": {},
     "output_type": "execute_result"
    }
   ],
   "source": [
    "# match number of advisors to result number\n",
    "len(advisor_list)"
   ]
  },
  {
   "cell_type": "code",
   "execution_count": 365,
   "metadata": {},
   "outputs": [],
   "source": [
    "# save each part of what we found into the dictionaries\n",
    "for i in advisor_list:\n",
    "    advisor = {}\n",
    "    try:\n",
    "        advisor['name'] = i.find('h3').text\n",
    "    except:\n",
    "        advisor['name'] = None\n",
    "    try:\n",
    "        advisor['title'] = i.find('p', {'class':'title'}).text\n",
    "    except:\n",
    "        advisor['title'] = None\n",
    "    \n",
    "    try:\n",
    "        advisor['phone'] = i.find('a', {'class':'phone-link'}).text\n",
    "    except: \n",
    "        advisor['phone'] = None\n",
    "    \n",
    "    try:\n",
    "        advisor['email'] = i.find('p', {'class':'email'}).find('a', href=True)['href']\n",
    "    except:\n",
    "        advisor['email'] = None\n",
    "    \n",
    "    try:\n",
    "        advisor['address'] = i.find('a', {'class':'address'}).text\n",
    "    except:\n",
    "        advisor['address'] = None\n",
    "    \n",
    "    try:\n",
    "        advisor['link_to_website'] = i.find('a', href=True)['href']\n",
    "    except:\n",
    "        advisor['link_to_website'] = None\n",
    "    \n",
    "    list_of_advisor_dicts.append(advisor)"
   ]
  },
  {
   "cell_type": "code",
   "execution_count": null,
   "metadata": {},
   "outputs": [],
   "source": []
  },
  {
   "cell_type": "code",
   "execution_count": 366,
   "metadata": {},
   "outputs": [
    {
     "data": {
      "text/plain": [
       "1241"
      ]
     },
     "execution_count": 366,
     "metadata": {},
     "output_type": "execute_result"
    }
   ],
   "source": [
    "# how many advisors are on the list now\n",
    "len(list_of_advisor_dicts)"
   ]
  },
  {
   "cell_type": "code",
   "execution_count": null,
   "metadata": {},
   "outputs": [],
   "source": []
  },
  {
   "cell_type": "code",
   "execution_count": 367,
   "metadata": {},
   "outputs": [],
   "source": [
    "# save into dataframe\n",
    "df = pd.DataFrame(list_of_advisor_dicts)"
   ]
  },
  {
   "cell_type": "code",
   "execution_count": null,
   "metadata": {},
   "outputs": [],
   "source": []
  },
  {
   "cell_type": "markdown",
   "metadata": {},
   "source": [
    "## Save raw into csv"
   ]
  },
  {
   "cell_type": "code",
   "execution_count": 368,
   "metadata": {},
   "outputs": [],
   "source": [
    "#save original to csv\n",
    "raw_df = deepcopy(df)"
   ]
  },
  {
   "cell_type": "code",
   "execution_count": 369,
   "metadata": {},
   "outputs": [
    {
     "data": {
      "text/plain": [
       "(1241, 6)"
      ]
     },
     "execution_count": 369,
     "metadata": {},
     "output_type": "execute_result"
    }
   ],
   "source": [
    "raw_df.shape"
   ]
  },
  {
   "cell_type": "code",
   "execution_count": 370,
   "metadata": {},
   "outputs": [],
   "source": [
    "raw_df.to_csv('ameriprise_morski_raw.csv')"
   ]
  },
  {
   "cell_type": "code",
   "execution_count": null,
   "metadata": {},
   "outputs": [],
   "source": []
  },
  {
   "cell_type": "markdown",
   "metadata": {},
   "source": [
    "## Drop duplicates"
   ]
  },
  {
   "cell_type": "code",
   "execution_count": 371,
   "metadata": {},
   "outputs": [
    {
     "data": {
      "text/html": [
       "<div>\n",
       "<style scoped>\n",
       "    .dataframe tbody tr th:only-of-type {\n",
       "        vertical-align: middle;\n",
       "    }\n",
       "\n",
       "    .dataframe tbody tr th {\n",
       "        vertical-align: top;\n",
       "    }\n",
       "\n",
       "    .dataframe thead th {\n",
       "        text-align: right;\n",
       "    }\n",
       "</style>\n",
       "<table border=\"1\" class=\"dataframe\">\n",
       "  <thead>\n",
       "    <tr style=\"text-align: right;\">\n",
       "      <th></th>\n",
       "      <th>name</th>\n",
       "      <th>title</th>\n",
       "      <th>phone</th>\n",
       "      <th>email</th>\n",
       "      <th>address</th>\n",
       "      <th>link_to_website</th>\n",
       "    </tr>\n",
       "  </thead>\n",
       "  <tbody>\n",
       "    <tr>\n",
       "      <td>0</td>\n",
       "      <td>Fields Wealth Management</td>\n",
       "      <td>\\n</td>\n",
       "      <td>817.591.8000</td>\n",
       "      <td>None</td>\n",
       "      <td>\\n1401 Precinct Line Rd\\n\\nHurst, TX 76053-3827\\n</td>\n",
       "      <td>/team/fields-wealth-management/?awsrc=</td>\n",
       "    </tr>\n",
       "    <tr>\n",
       "      <td>1</td>\n",
       "      <td>Charla K McIntyre Fields</td>\n",
       "      <td>Private Wealth Advisor\\n • Fields Wealth Manag...</td>\n",
       "      <td>817.591.8002</td>\n",
       "      <td>mailto:charla.k.mcintyre-fields@ampf.com</td>\n",
       "      <td>\\n1401 Precinct Line Rd\\n\\nHurst, TX 76053-3827\\n</td>\n",
       "      <td>/charla.k.mcintyre-fields/?awsrc=</td>\n",
       "    </tr>\n",
       "    <tr>\n",
       "      <td>2</td>\n",
       "      <td>Vasso &amp; Associates</td>\n",
       "      <td>\\n</td>\n",
       "      <td>972.692.5069</td>\n",
       "      <td>mailto:neal.d.vasso@ampf.com</td>\n",
       "      <td>\\n5000 Quorum Dr Ste 375\\n\\nDallas, TX 75254-7...</td>\n",
       "      <td>/team/vasso-associates/?awsrc=</td>\n",
       "    </tr>\n",
       "    <tr>\n",
       "      <td>3</td>\n",
       "      <td>Neal D Vasso</td>\n",
       "      <td>Private Wealth Advisor\\n • Vasso &amp; Associates\\n</td>\n",
       "      <td>972.692.5069</td>\n",
       "      <td>mailto:neal.d.vasso@ampf.com</td>\n",
       "      <td>\\n5000 Quorum Dr Ste 375\\n\\nDallas, TX 75254-7...</td>\n",
       "      <td>/neal.d.vasso/?awsrc=</td>\n",
       "    </tr>\n",
       "    <tr>\n",
       "      <td>4</td>\n",
       "      <td>Doyle &amp; Associates</td>\n",
       "      <td>\\n</td>\n",
       "      <td>214.389.8500</td>\n",
       "      <td>mailto:terry.d.doyle@ampf.com</td>\n",
       "      <td>\\n2435 N Central Expy\\nSte 915\\nRichardson, TX...</td>\n",
       "      <td>/team/doyle-associates/?awsrc=</td>\n",
       "    </tr>\n",
       "  </tbody>\n",
       "</table>\n",
       "</div>"
      ],
      "text/plain": [
       "                       name  \\\n",
       "0  Fields Wealth Management   \n",
       "1  Charla K McIntyre Fields   \n",
       "2        Vasso & Associates   \n",
       "3              Neal D Vasso   \n",
       "4        Doyle & Associates   \n",
       "\n",
       "                                               title         phone  \\\n",
       "0                                                 \\n  817.591.8000   \n",
       "1  Private Wealth Advisor\\n • Fields Wealth Manag...  817.591.8002   \n",
       "2                                                 \\n  972.692.5069   \n",
       "3    Private Wealth Advisor\\n • Vasso & Associates\\n  972.692.5069   \n",
       "4                                                 \\n  214.389.8500   \n",
       "\n",
       "                                      email  \\\n",
       "0                                      None   \n",
       "1  mailto:charla.k.mcintyre-fields@ampf.com   \n",
       "2              mailto:neal.d.vasso@ampf.com   \n",
       "3              mailto:neal.d.vasso@ampf.com   \n",
       "4             mailto:terry.d.doyle@ampf.com   \n",
       "\n",
       "                                             address  \\\n",
       "0  \\n1401 Precinct Line Rd\\n\\nHurst, TX 76053-3827\\n   \n",
       "1  \\n1401 Precinct Line Rd\\n\\nHurst, TX 76053-3827\\n   \n",
       "2  \\n5000 Quorum Dr Ste 375\\n\\nDallas, TX 75254-7...   \n",
       "3  \\n5000 Quorum Dr Ste 375\\n\\nDallas, TX 75254-7...   \n",
       "4  \\n2435 N Central Expy\\nSte 915\\nRichardson, TX...   \n",
       "\n",
       "                          link_to_website  \n",
       "0  /team/fields-wealth-management/?awsrc=  \n",
       "1       /charla.k.mcintyre-fields/?awsrc=  \n",
       "2          /team/vasso-associates/?awsrc=  \n",
       "3                   /neal.d.vasso/?awsrc=  \n",
       "4          /team/doyle-associates/?awsrc=  "
      ]
     },
     "execution_count": 371,
     "metadata": {},
     "output_type": "execute_result"
    }
   ],
   "source": [
    "df.head()"
   ]
  },
  {
   "cell_type": "code",
   "execution_count": 373,
   "metadata": {},
   "outputs": [],
   "source": [
    "#drop duplicate values if they have the same name and email\n",
    "df = df.sort_values('name').drop_duplicates(subset=['name','email'], keep = 'last')"
   ]
  },
  {
   "cell_type": "markdown",
   "metadata": {},
   "source": [
    "## Fix Columns"
   ]
  },
  {
   "cell_type": "code",
   "execution_count": 374,
   "metadata": {},
   "outputs": [],
   "source": [
    "# get title from title column\n",
    "df['correct_title'] = df['title'].str.split('\\n', expand = True)[0]"
   ]
  },
  {
   "cell_type": "code",
   "execution_count": 375,
   "metadata": {},
   "outputs": [],
   "source": [
    "# get team from title column\n",
    "df['team'] = df['title'].str.split('\\n', expand = True)[1]"
   ]
  },
  {
   "cell_type": "code",
   "execution_count": 376,
   "metadata": {
    "scrolled": true
   },
   "outputs": [],
   "source": [
    "# get rid of phrase 'mail to:' in email column\n",
    "df['email'] = df['email'].str[7:]"
   ]
  },
  {
   "cell_type": "code",
   "execution_count": 377,
   "metadata": {},
   "outputs": [],
   "source": [
    "# get city, state, and zip from address column\n",
    "df['city, state, zip'] = df['address'].str.split('\\n', expand =True)[3]"
   ]
  },
  {
   "cell_type": "code",
   "execution_count": 378,
   "metadata": {},
   "outputs": [],
   "source": [
    "# get the primary address\n",
    "df['address1'] = df['address'].str.split('\\n', expand =True)[1]"
   ]
  },
  {
   "cell_type": "code",
   "execution_count": 379,
   "metadata": {},
   "outputs": [],
   "source": [
    "# get suite number from address\n",
    "df['address2'] = df['address'].str.split('\\n', expand =True)[2]"
   ]
  },
  {
   "cell_type": "code",
   "execution_count": 380,
   "metadata": {
    "scrolled": true
   },
   "outputs": [],
   "source": [
    "# get rid of phrase from the link column\n",
    "df['link_to_website'] = df['link_to_website'].str[:-8]"
   ]
  },
  {
   "cell_type": "code",
   "execution_count": 381,
   "metadata": {},
   "outputs": [],
   "source": [
    "# create a column with the proper address\n",
    "df['link'] = 'https://www.ameripriseadvisors.com/'"
   ]
  },
  {
   "cell_type": "code",
   "execution_count": 382,
   "metadata": {},
   "outputs": [],
   "source": [
    "# concatenate link and link_to_website to have the right web address\n",
    "df['link'] = df['link']+df['link_to_website'].astype(str)"
   ]
  },
  {
   "cell_type": "code",
   "execution_count": 383,
   "metadata": {},
   "outputs": [],
   "source": [
    "# isolate city from city,state, zip column\n",
    "df['city'] = df['city, state, zip'].str.split(', ', expand=True)[0]"
   ]
  },
  {
   "cell_type": "code",
   "execution_count": 384,
   "metadata": {},
   "outputs": [],
   "source": [
    "# get zip code from city, state, and zip column\n",
    "df['zip'] = df['city, state, zip'].str.split(', ', expand=True)[1]"
   ]
  },
  {
   "cell_type": "code",
   "execution_count": 385,
   "metadata": {},
   "outputs": [],
   "source": [
    "# strip the first 3 characters from zipcode\n",
    "df['zip']= df['zip'].str[3:]"
   ]
  },
  {
   "cell_type": "code",
   "execution_count": 386,
   "metadata": {},
   "outputs": [],
   "source": [
    "# strip the first 3 charachters from team \n",
    "df['team'] = df['team'].str[3:]"
   ]
  },
  {
   "cell_type": "code",
   "execution_count": 387,
   "metadata": {},
   "outputs": [],
   "source": [
    "# create the right order for dataframe\n",
    "new_cols = ['name', 'team', 'phone', 'email', 'address1', 'address2', 'city', 'zip', 'link', 'correct_title']"
   ]
  },
  {
   "cell_type": "code",
   "execution_count": 388,
   "metadata": {},
   "outputs": [],
   "source": [
    "# save into new dataframe\n",
    "df = df[new_cols]"
   ]
  },
  {
   "cell_type": "code",
   "execution_count": 389,
   "metadata": {},
   "outputs": [],
   "source": [
    "# sort df by city, then, address, then team\n",
    "df = df.sort_values(by=['city', 'address1', 'team'])"
   ]
  },
  {
   "cell_type": "code",
   "execution_count": 390,
   "metadata": {},
   "outputs": [],
   "source": [
    "# reset index\n",
    "df.reset_index(inplace=True)"
   ]
  },
  {
   "cell_type": "code",
   "execution_count": 391,
   "metadata": {},
   "outputs": [
    {
     "data": {
      "text/html": [
       "<div>\n",
       "<style scoped>\n",
       "    .dataframe tbody tr th:only-of-type {\n",
       "        vertical-align: middle;\n",
       "    }\n",
       "\n",
       "    .dataframe tbody tr th {\n",
       "        vertical-align: top;\n",
       "    }\n",
       "\n",
       "    .dataframe thead th {\n",
       "        text-align: right;\n",
       "    }\n",
       "</style>\n",
       "<table border=\"1\" class=\"dataframe\">\n",
       "  <thead>\n",
       "    <tr style=\"text-align: right;\">\n",
       "      <th></th>\n",
       "      <th>index</th>\n",
       "      <th>name</th>\n",
       "      <th>team</th>\n",
       "      <th>phone</th>\n",
       "      <th>email</th>\n",
       "      <th>address1</th>\n",
       "      <th>address2</th>\n",
       "      <th>city</th>\n",
       "      <th>zip</th>\n",
       "      <th>link</th>\n",
       "      <th>correct_title</th>\n",
       "    </tr>\n",
       "  </thead>\n",
       "  <tbody>\n",
       "    <tr>\n",
       "      <td>0</td>\n",
       "      <td>1021</td>\n",
       "      <td>Watters Creek Wealth Management</td>\n",
       "      <td></td>\n",
       "      <td>972.954.1595</td>\n",
       "      <td>clint.w.wammack@ampf.com</td>\n",
       "      <td>700 Central Expy S</td>\n",
       "      <td>Ste 380</td>\n",
       "      <td>Allen</td>\n",
       "      <td>75013-8110</td>\n",
       "      <td>https://www.ameripriseadvisors.com//team/watte...</td>\n",
       "      <td></td>\n",
       "    </tr>\n",
       "    <tr>\n",
       "      <td>1</td>\n",
       "      <td>413</td>\n",
       "      <td>Clint Wammack</td>\n",
       "      <td>Watters Creek Wealth Management</td>\n",
       "      <td>972.954.1595</td>\n",
       "      <td>clint.w.wammack@ampf.com</td>\n",
       "      <td>700 Central Expy S</td>\n",
       "      <td>Ste 380</td>\n",
       "      <td>Allen</td>\n",
       "      <td>75013-8110</td>\n",
       "      <td>https://www.ameripriseadvisors.com//clint.w.wa...</td>\n",
       "      <td>Financial Advisor</td>\n",
       "    </tr>\n",
       "    <tr>\n",
       "      <td>2</td>\n",
       "      <td>700</td>\n",
       "      <td>Jenny Funderburk</td>\n",
       "      <td>Watters Creek Wealth Management</td>\n",
       "      <td>972.954.1595</td>\n",
       "      <td>Jenny.A.Funderburk@ampf.com</td>\n",
       "      <td>700 Central Expy S</td>\n",
       "      <td>Ste 380</td>\n",
       "      <td>Allen</td>\n",
       "      <td>75013-8110</td>\n",
       "      <td>https://www.ameripriseadvisors.com//jenny.a.fu...</td>\n",
       "      <td>Financial Advisor</td>\n",
       "    </tr>\n",
       "    <tr>\n",
       "      <td>3</td>\n",
       "      <td>336</td>\n",
       "      <td>Zachary Swain</td>\n",
       "      <td></td>\n",
       "      <td>817.427.5300</td>\n",
       "      <td>zachary.g.swain@ampf.com</td>\n",
       "      <td>2000 E Lamar Blvd</td>\n",
       "      <td>Ste 600</td>\n",
       "      <td>Arlington</td>\n",
       "      <td>76006-7340</td>\n",
       "      <td>https://www.ameripriseadvisors.com//zachary.g....</td>\n",
       "      <td>Private Wealth Advisor</td>\n",
       "    </tr>\n",
       "    <tr>\n",
       "      <td>4</td>\n",
       "      <td>573</td>\n",
       "      <td>Tre Carruthers</td>\n",
       "      <td>Carruthers &amp; Associates</td>\n",
       "      <td>682.323.8429</td>\n",
       "      <td>tre.l.carruthers@ampf.com</td>\n",
       "      <td>2221 E Lamar Blvd</td>\n",
       "      <td>Ste 220</td>\n",
       "      <td>Arlington</td>\n",
       "      <td>76006-7418</td>\n",
       "      <td>https://www.ameripriseadvisors.com//tre.l.carr...</td>\n",
       "      <td>Financial Advisor</td>\n",
       "    </tr>\n",
       "  </tbody>\n",
       "</table>\n",
       "</div>"
      ],
      "text/plain": [
       "   index                             name                             team  \\\n",
       "0   1021  Watters Creek Wealth Management                                    \n",
       "1    413                    Clint Wammack  Watters Creek Wealth Management   \n",
       "2    700                 Jenny Funderburk  Watters Creek Wealth Management   \n",
       "3    336                    Zachary Swain                                    \n",
       "4    573                   Tre Carruthers          Carruthers & Associates   \n",
       "\n",
       "          phone                        email            address1 address2  \\\n",
       "0  972.954.1595     clint.w.wammack@ampf.com  700 Central Expy S  Ste 380   \n",
       "1  972.954.1595     clint.w.wammack@ampf.com  700 Central Expy S  Ste 380   \n",
       "2  972.954.1595  Jenny.A.Funderburk@ampf.com  700 Central Expy S  Ste 380   \n",
       "3  817.427.5300     zachary.g.swain@ampf.com   2000 E Lamar Blvd  Ste 600   \n",
       "4  682.323.8429    tre.l.carruthers@ampf.com   2221 E Lamar Blvd  Ste 220   \n",
       "\n",
       "        city         zip                                               link  \\\n",
       "0      Allen  75013-8110  https://www.ameripriseadvisors.com//team/watte...   \n",
       "1      Allen  75013-8110  https://www.ameripriseadvisors.com//clint.w.wa...   \n",
       "2      Allen  75013-8110  https://www.ameripriseadvisors.com//jenny.a.fu...   \n",
       "3  Arlington  76006-7340  https://www.ameripriseadvisors.com//zachary.g....   \n",
       "4  Arlington  76006-7418  https://www.ameripriseadvisors.com//tre.l.carr...   \n",
       "\n",
       "            correct_title  \n",
       "0                          \n",
       "1       Financial Advisor  \n",
       "2       Financial Advisor  \n",
       "3  Private Wealth Advisor  \n",
       "4       Financial Advisor  "
      ]
     },
     "execution_count": 391,
     "metadata": {},
     "output_type": "execute_result"
    }
   ],
   "source": [
    "df.head()"
   ]
  },
  {
   "cell_type": "code",
   "execution_count": 392,
   "metadata": {},
   "outputs": [],
   "source": [
    "# drop auto created columns from reset_index\n",
    "df.drop(columns = ['index'], inplace=True)"
   ]
  },
  {
   "cell_type": "code",
   "execution_count": null,
   "metadata": {},
   "outputs": [],
   "source": []
  },
  {
   "cell_type": "code",
   "execution_count": 393,
   "metadata": {},
   "outputs": [],
   "source": [
    "# save\n",
    "df.to_csv('morski_ameriprise_fixed2.csv')"
   ]
  },
  {
   "cell_type": "code",
   "execution_count": null,
   "metadata": {},
   "outputs": [],
   "source": []
  }
 ],
 "metadata": {
  "kernelspec": {
   "display_name": "Python 3",
   "language": "python",
   "name": "python3"
  },
  "language_info": {
   "codemirror_mode": {
    "name": "ipython",
    "version": 3
   },
   "file_extension": ".py",
   "mimetype": "text/x-python",
   "name": "python",
   "nbconvert_exporter": "python",
   "pygments_lexer": "ipython3",
   "version": "3.7.4"
  },
  "toc": {
   "base_numbering": 1,
   "nav_menu": {},
   "number_sections": true,
   "sideBar": true,
   "skip_h1_title": false,
   "title_cell": "Table of Contents",
   "title_sidebar": "Contents",
   "toc_cell": false,
   "toc_position": {
    "height": "calc(100% - 180px)",
    "left": "10px",
    "top": "150px",
    "width": "192px"
   },
   "toc_section_display": true,
   "toc_window_display": true
  }
 },
 "nbformat": 4,
 "nbformat_minor": 2
}
