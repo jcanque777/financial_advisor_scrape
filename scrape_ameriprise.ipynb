{
 "cells": [
  {
   "cell_type": "code",
   "execution_count": 7,
   "metadata": {},
   "outputs": [],
   "source": [
    "import pandas as pd\n",
    "import numpy as np\n",
    "\n",
    "from selenium import webdriver\n",
    "from selenium.webdriver.common.keys import Keys\n",
    "from selenium.webdriver.common.by import By\n",
    "from selenium.webdriver.support.ui import WebDriverWait\n",
    "from selenium.webdriver.support import expected_conditions as EC\n",
    "\n",
    "import requests\n",
    "from tqdm import tqdm_notebook as tqdm\n",
    "import time\n",
    "import random\n",
    "\n",
    "from bs4 import BeautifulSoup\n",
    "from copy import deepcopy"
   ]
  },
  {
   "cell_type": "code",
   "execution_count": 8,
   "metadata": {
    "scrolled": true
   },
   "outputs": [],
   "source": [
    "# boot up scraper for chrome\n",
    "driver = webdriver.Chrome()"
   ]
  },
  {
   "cell_type": "code",
   "execution_count": 314,
   "metadata": {},
   "outputs": [],
   "source": [
    "# go to ameriprise website\n",
    "driver.get('https://www.ameripriseadvisors.com/')"
   ]
  },
  {
   "cell_type": "markdown",
   "metadata": {},
   "source": [
    "# Isolate each box/container"
   ]
  },
  {
   "cell_type": "code",
   "execution_count": 13,
   "metadata": {},
   "outputs": [],
   "source": [
    "# use beautiful soup to load website information\n",
    "soup = BeautifulSoup(driver.page_source)"
   ]
  },
  {
   "cell_type": "code",
   "execution_count": 15,
   "metadata": {},
   "outputs": [
    {
     "data": {
      "text/plain": [
       "42"
      ]
     },
     "execution_count": 15,
     "metadata": {},
     "output_type": "execute_result"
    }
   ],
   "source": [
    "# match number of ameriprise advisors\n",
    "len(soup.find_all('div',{'class':'right-pane'}))"
   ]
  },
  {
   "cell_type": "code",
   "execution_count": 18,
   "metadata": {},
   "outputs": [],
   "source": [
    "# save each container to a list\n",
    "advisor_list = soup.find_all('div',{'class':'right-pane'})"
   ]
  },
  {
   "cell_type": "markdown",
   "metadata": {},
   "source": [
    "## Get Name"
   ]
  },
  {
   "cell_type": "code",
   "execution_count": 35,
   "metadata": {},
   "outputs": [
    {
     "data": {
      "text/plain": [
       "'Vasso & Associates'"
      ]
     },
     "execution_count": 35,
     "metadata": {},
     "output_type": "execute_result"
    }
   ],
   "source": [
    "# code to get name\n",
    "advisor_list[0].find('h3').text"
   ]
  },
  {
   "cell_type": "markdown",
   "metadata": {},
   "source": [
    "## Get Titles"
   ]
  },
  {
   "cell_type": "code",
   "execution_count": 73,
   "metadata": {},
   "outputs": [
    {
     "data": {
      "text/plain": [
       "'Private Wealth Advisor\\n • Vasso & Associates\\n'"
      ]
     },
     "execution_count": 73,
     "metadata": {},
     "output_type": "execute_result"
    }
   ],
   "source": [
    "# find advisor title: some are more important that others\n",
    "advisor_list[1].find('p', {'class':'title'}).text"
   ]
  },
  {
   "cell_type": "code",
   "execution_count": 315,
   "metadata": {},
   "outputs": [],
   "source": [
    "# # iterate through advisor list to check for mistakes\n",
    "# # spits out '\\n'\n",
    "# for i in advisor_list:\n",
    "#     print(i.find('h3').text)\n",
    "#     print(i.find('p', {'class':'title'}).text)\n",
    "#     print('\\n')"
   ]
  },
  {
   "cell_type": "markdown",
   "metadata": {},
   "source": [
    "### Team affiliation is after * charachter"
   ]
  },
  {
   "cell_type": "code",
   "execution_count": 75,
   "metadata": {},
   "outputs": [
    {
     "data": {
      "text/plain": [
       "'Private Wealth Advisor\\n • Vasso & Associates\\n'"
      ]
     },
     "execution_count": 75,
     "metadata": {},
     "output_type": "execute_result"
    }
   ],
   "source": [
    "# find team that advisor is on\n",
    "advisor_list[1].find('p', {'class':'title'}).text"
   ]
  },
  {
   "cell_type": "markdown",
   "metadata": {},
   "source": [
    "## Phone"
   ]
  },
  {
   "cell_type": "code",
   "execution_count": 76,
   "metadata": {},
   "outputs": [
    {
     "data": {
      "text/plain": [
       "'972.692.5069'"
      ]
     },
     "execution_count": 76,
     "metadata": {},
     "output_type": "execute_result"
    }
   ],
   "source": [
    "# find phone number\n",
    "advisor_list[1].find('a', {'class':'phone-link'}).text"
   ]
  },
  {
   "cell_type": "markdown",
   "metadata": {},
   "source": [
    "## Email"
   ]
  },
  {
   "cell_type": "code",
   "execution_count": 92,
   "metadata": {},
   "outputs": [
    {
     "data": {
      "text/plain": [
       "'mailto:neal.d.vasso@ampf.com'"
      ]
     },
     "execution_count": 92,
     "metadata": {},
     "output_type": "execute_result"
    }
   ],
   "source": [
    "# find email address\n",
    "advisor_list[1].find('p', {'class':'email'}).find('a', href=True)['href']"
   ]
  },
  {
   "cell_type": "code",
   "execution_count": 95,
   "metadata": {},
   "outputs": [],
   "source": [
    "# # test \n",
    "# for i in advisor_list:\n",
    "#     print(i.find('p', {'class':'email'}).find('a', href=True)['href'])"
   ]
  },
  {
   "cell_type": "markdown",
   "metadata": {},
   "source": [
    "## Address"
   ]
  },
  {
   "cell_type": "code",
   "execution_count": 101,
   "metadata": {},
   "outputs": [
    {
     "data": {
      "text/plain": [
       "'\\n5000 Quorum Dr Ste 375\\n\\nDallas, TX 75254-7091\\n'"
      ]
     },
     "execution_count": 101,
     "metadata": {},
     "output_type": "execute_result"
    }
   ],
   "source": [
    "# find address\n",
    "advisor_list[1].find('a', {'class':'address'}).text"
   ]
  },
  {
   "cell_type": "code",
   "execution_count": 105,
   "metadata": {},
   "outputs": [],
   "source": [
    "# # test \n",
    "# for i in advisor_list:\n",
    "#     print(i.find('a', {'class':'address'}).text)\n",
    "#     print('\\n')"
   ]
  },
  {
   "cell_type": "markdown",
   "metadata": {},
   "source": [
    "## Link to website"
   ]
  },
  {
   "cell_type": "code",
   "execution_count": 107,
   "metadata": {},
   "outputs": [
    {
     "data": {
      "text/plain": [
       "'/neal.d.vasso/?awsrc='"
      ]
     },
     "execution_count": 107,
     "metadata": {},
     "output_type": "execute_result"
    }
   ],
   "source": [
    "# find link to website\n",
    "advisor_list[1].find('a', href=True)['href']\n"
   ]
  },
  {
   "cell_type": "code",
   "execution_count": 109,
   "metadata": {},
   "outputs": [],
   "source": [
    "# # test \n",
    "# for i in advisor_list:\n",
    "#     print(i.find('a', href=True)['href'])\n",
    "#     print('\\n')"
   ]
  },
  {
   "cell_type": "code",
   "execution_count": null,
   "metadata": {},
   "outputs": [],
   "source": []
  },
  {
   "cell_type": "markdown",
   "metadata": {},
   "source": [
    "# sample pipeline"
   ]
  },
  {
   "cell_type": "code",
   "execution_count": 119,
   "metadata": {},
   "outputs": [],
   "source": [
    "## create a list of advisors\n",
    "# list_of_advisor_dicts = []"
   ]
  },
  {
   "cell_type": "code",
   "execution_count": 185,
   "metadata": {},
   "outputs": [],
   "source": [
    "# save page information\n",
    "soup = BeautifulSoup(driver.page_source)"
   ]
  },
  {
   "cell_type": "code",
   "execution_count": 186,
   "metadata": {},
   "outputs": [],
   "source": [
    "# create list of advisors from page\n",
    "advisor_list = soup.find_all('div',{'class':'right-pane'})"
   ]
  },
  {
   "cell_type": "code",
   "execution_count": 187,
   "metadata": {},
   "outputs": [
    {
     "data": {
      "text/plain": [
       "3"
      ]
     },
     "execution_count": 187,
     "metadata": {},
     "output_type": "execute_result"
    }
   ],
   "source": [
    "# match number of advisors to result number\n",
    "len(advisor_list)"
   ]
  },
  {
   "cell_type": "code",
   "execution_count": 188,
   "metadata": {},
   "outputs": [],
   "source": [
    "# save each part of what we found into the dictionaries\n",
    "for i in advisor_list:\n",
    "    advisor = {}\n",
    "    try:\n",
    "        advisor['name'] = i.find('h3').text\n",
    "    except:\n",
    "        advisor['name'] = None\n",
    "    try:\n",
    "        advisor['title'] = i.find('p', {'class':'title'}).text\n",
    "    except:\n",
    "        advisor['title'] = None\n",
    "    \n",
    "    try:\n",
    "        advisor['phone'] = i.find('a', {'class':'phone-link'}).text\n",
    "    except: \n",
    "        advisor['phone'] = None\n",
    "    \n",
    "    try:\n",
    "        advisor['email'] = i.find('p', {'class':'email'}).find('a', href=True)['href']\n",
    "    except:\n",
    "        advisor['email'] = None\n",
    "    \n",
    "    try:\n",
    "        advisor['address'] = i.find('a', {'class':'address'}).text\n",
    "    except:\n",
    "        advisor['address'] = None\n",
    "    \n",
    "    try:\n",
    "        advisor['link_to_website'] = i.find('a', href=True)['href']\n",
    "    except:\n",
    "        advisor['link_to_website'] = None\n",
    "    \n",
    "    list_of_advisor_dicts.append(advisor)"
   ]
  },
  {
   "cell_type": "code",
   "execution_count": null,
   "metadata": {},
   "outputs": [],
   "source": []
  },
  {
   "cell_type": "code",
   "execution_count": 189,
   "metadata": {},
   "outputs": [
    {
     "data": {
      "text/plain": [
       "299"
      ]
     },
     "execution_count": 189,
     "metadata": {},
     "output_type": "execute_result"
    }
   ],
   "source": [
    "# how many advisors are on the list now\n",
    "len(list_of_advisor_dicts)"
   ]
  },
  {
   "cell_type": "code",
   "execution_count": 191,
   "metadata": {},
   "outputs": [],
   "source": [
    "df = pd.DataFrame(list_of_advisor_dicts)"
   ]
  },
  {
   "cell_type": "code",
   "execution_count": 194,
   "metadata": {},
   "outputs": [],
   "source": [
    "raw_df = deepcopy(df)"
   ]
  },
  {
   "cell_type": "code",
   "execution_count": 195,
   "metadata": {},
   "outputs": [
    {
     "data": {
      "text/plain": [
       "(299, 6)"
      ]
     },
     "execution_count": 195,
     "metadata": {},
     "output_type": "execute_result"
    }
   ],
   "source": [
    "raw_df.shape"
   ]
  },
  {
   "cell_type": "code",
   "execution_count": 196,
   "metadata": {},
   "outputs": [],
   "source": [
    "raw_df.to_csv('ameriprise_morski.csv')"
   ]
  },
  {
   "cell_type": "code",
   "execution_count": 198,
   "metadata": {},
   "outputs": [
    {
     "data": {
      "text/html": [
       "<div>\n",
       "<style scoped>\n",
       "    .dataframe tbody tr th:only-of-type {\n",
       "        vertical-align: middle;\n",
       "    }\n",
       "\n",
       "    .dataframe tbody tr th {\n",
       "        vertical-align: top;\n",
       "    }\n",
       "\n",
       "    .dataframe thead th {\n",
       "        text-align: right;\n",
       "    }\n",
       "</style>\n",
       "<table border=\"1\" class=\"dataframe\">\n",
       "  <thead>\n",
       "    <tr style=\"text-align: right;\">\n",
       "      <th></th>\n",
       "      <th>name</th>\n",
       "      <th>title</th>\n",
       "      <th>phone</th>\n",
       "      <th>email</th>\n",
       "      <th>address</th>\n",
       "      <th>link_to_website</th>\n",
       "    </tr>\n",
       "  </thead>\n",
       "  <tbody>\n",
       "    <tr>\n",
       "      <td>0</td>\n",
       "      <td>Vasso &amp; Associates</td>\n",
       "      <td>\\n</td>\n",
       "      <td>972.692.5069</td>\n",
       "      <td>mailto:neal.d.vasso@ampf.com</td>\n",
       "      <td>\\n5000 Quorum Dr Ste 375\\n\\nDallas, TX 75254-7...</td>\n",
       "      <td>/team/vasso-associates/?awsrc=</td>\n",
       "    </tr>\n",
       "    <tr>\n",
       "      <td>1</td>\n",
       "      <td>Neal D Vasso</td>\n",
       "      <td>Private Wealth Advisor\\n • Vasso &amp; Associates\\n</td>\n",
       "      <td>972.692.5069</td>\n",
       "      <td>mailto:neal.d.vasso@ampf.com</td>\n",
       "      <td>\\n5000 Quorum Dr Ste 375\\n\\nDallas, TX 75254-7...</td>\n",
       "      <td>/neal.d.vasso/?awsrc=</td>\n",
       "    </tr>\n",
       "    <tr>\n",
       "      <td>2</td>\n",
       "      <td>Jones, Cannon and Scofield</td>\n",
       "      <td>\\n</td>\n",
       "      <td>214.272.7919</td>\n",
       "      <td>mailto:heidi.a.brown@ampf.com</td>\n",
       "      <td>\\n5910 N Central Expy\\nSte 1040\\nDallas, TX 75...</td>\n",
       "      <td>/team/jones-cannon-and-scofield/?awsrc=</td>\n",
       "    </tr>\n",
       "    <tr>\n",
       "      <td>3</td>\n",
       "      <td>Charles Jones</td>\n",
       "      <td>Private Wealth Advisor\\n • Jones, Cannon and S...</td>\n",
       "      <td>214.272.7919</td>\n",
       "      <td>mailto:charles.c.jones@ampf.com</td>\n",
       "      <td>\\n5910 N Central Expy\\nSte 1040\\nDallas, TX 75...</td>\n",
       "      <td>/charles.c.jones/?awsrc=</td>\n",
       "    </tr>\n",
       "    <tr>\n",
       "      <td>4</td>\n",
       "      <td>Ky L Fiser</td>\n",
       "      <td>Private Wealth Advisor\\n • Fiser Wealth Manage...</td>\n",
       "      <td>214.420.0600</td>\n",
       "      <td>mailto:Ky.Fiser@ampf.com</td>\n",
       "      <td>\\n4144 N Central Expy Ste 538\\n\\nDallas, TX 75...</td>\n",
       "      <td>/ky.fiser/?awsrc=</td>\n",
       "    </tr>\n",
       "  </tbody>\n",
       "</table>\n",
       "</div>"
      ],
      "text/plain": [
       "                         name  \\\n",
       "0          Vasso & Associates   \n",
       "1                Neal D Vasso   \n",
       "2  Jones, Cannon and Scofield   \n",
       "3               Charles Jones   \n",
       "4                  Ky L Fiser   \n",
       "\n",
       "                                               title         phone  \\\n",
       "0                                                 \\n  972.692.5069   \n",
       "1    Private Wealth Advisor\\n • Vasso & Associates\\n  972.692.5069   \n",
       "2                                                 \\n  214.272.7919   \n",
       "3  Private Wealth Advisor\\n • Jones, Cannon and S...  214.272.7919   \n",
       "4  Private Wealth Advisor\\n • Fiser Wealth Manage...  214.420.0600   \n",
       "\n",
       "                             email  \\\n",
       "0     mailto:neal.d.vasso@ampf.com   \n",
       "1     mailto:neal.d.vasso@ampf.com   \n",
       "2    mailto:heidi.a.brown@ampf.com   \n",
       "3  mailto:charles.c.jones@ampf.com   \n",
       "4         mailto:Ky.Fiser@ampf.com   \n",
       "\n",
       "                                             address  \\\n",
       "0  \\n5000 Quorum Dr Ste 375\\n\\nDallas, TX 75254-7...   \n",
       "1  \\n5000 Quorum Dr Ste 375\\n\\nDallas, TX 75254-7...   \n",
       "2  \\n5910 N Central Expy\\nSte 1040\\nDallas, TX 75...   \n",
       "3  \\n5910 N Central Expy\\nSte 1040\\nDallas, TX 75...   \n",
       "4  \\n4144 N Central Expy Ste 538\\n\\nDallas, TX 75...   \n",
       "\n",
       "                           link_to_website  \n",
       "0           /team/vasso-associates/?awsrc=  \n",
       "1                    /neal.d.vasso/?awsrc=  \n",
       "2  /team/jones-cannon-and-scofield/?awsrc=  \n",
       "3                 /charles.c.jones/?awsrc=  \n",
       "4                        /ky.fiser/?awsrc=  "
      ]
     },
     "execution_count": 198,
     "metadata": {},
     "output_type": "execute_result"
    }
   ],
   "source": [
    "df.head()"
   ]
  },
  {
   "cell_type": "code",
   "execution_count": 200,
   "metadata": {},
   "outputs": [],
   "source": [
    "df = df.sort_values('name').drop_duplicates(subset=['name','email'], keep = 'last')"
   ]
  },
  {
   "cell_type": "code",
   "execution_count": 204,
   "metadata": {},
   "outputs": [],
   "source": [
    "df.reset_index(inplace=True)"
   ]
  },
  {
   "cell_type": "code",
   "execution_count": 212,
   "metadata": {},
   "outputs": [],
   "source": [
    "df['correct_title'] = df['title'].str.split('\\n', expand = True)[0]"
   ]
  },
  {
   "cell_type": "code",
   "execution_count": 214,
   "metadata": {},
   "outputs": [],
   "source": [
    "df['team'] = df['title'].str.split('\\n', expand = True)[1]"
   ]
  },
  {
   "cell_type": "code",
   "execution_count": 220,
   "metadata": {},
   "outputs": [
    {
     "data": {
      "text/plain": [
       "0          \n",
       "1          \n",
       "2          \n",
       "3          \n",
       "4          \n",
       "       ... \n",
       "153    None\n",
       "154    None\n",
       "155    None\n",
       "156        \n",
       "157        \n",
       "Name: 2, Length: 158, dtype: object"
      ]
     },
     "execution_count": 220,
     "metadata": {},
     "output_type": "execute_result"
    }
   ],
   "source": [
    "df['title'].str.split('\\n', expand = True)[2]"
   ]
  },
  {
   "cell_type": "code",
   "execution_count": null,
   "metadata": {},
   "outputs": [],
   "source": []
  },
  {
   "cell_type": "code",
   "execution_count": 222,
   "metadata": {},
   "outputs": [],
   "source": [
    "df.drop(columns = ['new_title', 'unknow', 'index', 'title', 'misc'], inplace =True)"
   ]
  },
  {
   "cell_type": "code",
   "execution_count": 229,
   "metadata": {
    "scrolled": true
   },
   "outputs": [],
   "source": [
    "df['email'] = df['email'].str[7:]"
   ]
  },
  {
   "cell_type": "code",
   "execution_count": 230,
   "metadata": {},
   "outputs": [
    {
     "data": {
      "text/html": [
       "<div>\n",
       "<style scoped>\n",
       "    .dataframe tbody tr th:only-of-type {\n",
       "        vertical-align: middle;\n",
       "    }\n",
       "\n",
       "    .dataframe tbody tr th {\n",
       "        vertical-align: top;\n",
       "    }\n",
       "\n",
       "    .dataframe thead th {\n",
       "        text-align: right;\n",
       "    }\n",
       "</style>\n",
       "<table border=\"1\" class=\"dataframe\">\n",
       "  <thead>\n",
       "    <tr style=\"text-align: right;\">\n",
       "      <th></th>\n",
       "      <th>name</th>\n",
       "      <th>phone</th>\n",
       "      <th>email</th>\n",
       "      <th>address</th>\n",
       "      <th>link_to_website</th>\n",
       "      <th>team</th>\n",
       "      <th>correct_title</th>\n",
       "    </tr>\n",
       "  </thead>\n",
       "  <tbody>\n",
       "    <tr>\n",
       "      <td>0</td>\n",
       "      <td>Alana Doyle</td>\n",
       "      <td>214.389.8515</td>\n",
       "      <td>Alana.K.Doyle@ampf.com</td>\n",
       "      <td>\\n2435 N Central Expy\\nSte 915\\nRichardson, TX...</td>\n",
       "      <td>/alana.k.doyle/?awsrc=</td>\n",
       "      <td>• Doyle &amp; Associates</td>\n",
       "      <td>Associate Financial Advisor</td>\n",
       "    </tr>\n",
       "    <tr>\n",
       "      <td>1</td>\n",
       "      <td>Alex Swisher</td>\n",
       "      <td>214.272.7919</td>\n",
       "      <td>Alex.Swisher@ampf.com</td>\n",
       "      <td>\\n5910 N Central Expy\\nSte 1040\\nDallas, TX 75...</td>\n",
       "      <td>/alex.swisher/?awsrc=</td>\n",
       "      <td>• Jones, Cannon and Scofield</td>\n",
       "      <td>Financial Advisor</td>\n",
       "    </tr>\n",
       "    <tr>\n",
       "      <td>2</td>\n",
       "      <td>Amy Legate</td>\n",
       "      <td>214.469.0060</td>\n",
       "      <td>Amy.Legate@ampf.com</td>\n",
       "      <td>\\n5300 Town &amp;amp; Country Blvd\\nSte 160\\nFrisc...</td>\n",
       "      <td>/amy.legate/?awsrc=</td>\n",
       "      <td>• Silverman LeGate and Associates</td>\n",
       "      <td>Financial Advisor</td>\n",
       "    </tr>\n",
       "    <tr>\n",
       "      <td>3</td>\n",
       "      <td>Amy Ormsby</td>\n",
       "      <td>469.865.1082</td>\n",
       "      <td>AMY.M.ORMSBY@ampf.com</td>\n",
       "      <td>\\n1308 Village Creek Dr\\nSte 2000\\nPlano, TX 7...</td>\n",
       "      <td>/amy.m.ormsby/?awsrc=</td>\n",
       "      <td></td>\n",
       "      <td>Financial Advisor</td>\n",
       "    </tr>\n",
       "    <tr>\n",
       "      <td>4</td>\n",
       "      <td>Andee Sloot</td>\n",
       "      <td>469.221.0413</td>\n",
       "      <td>Andee.Sloot@ampf.com</td>\n",
       "      <td>\\n5960 Berkshire Ln Ste 1200\\n\\nDallas, TX 752...</td>\n",
       "      <td>/andee.sloot/?awsrc=</td>\n",
       "      <td>• LaunchPoint Wealth Advisors</td>\n",
       "      <td>Financial Advisor</td>\n",
       "    </tr>\n",
       "  </tbody>\n",
       "</table>\n",
       "</div>"
      ],
      "text/plain": [
       "           name         phone                   email  \\\n",
       "0   Alana Doyle  214.389.8515  Alana.K.Doyle@ampf.com   \n",
       "1  Alex Swisher  214.272.7919   Alex.Swisher@ampf.com   \n",
       "2    Amy Legate  214.469.0060     Amy.Legate@ampf.com   \n",
       "3    Amy Ormsby  469.865.1082   AMY.M.ORMSBY@ampf.com   \n",
       "4   Andee Sloot  469.221.0413    Andee.Sloot@ampf.com   \n",
       "\n",
       "                                             address         link_to_website  \\\n",
       "0  \\n2435 N Central Expy\\nSte 915\\nRichardson, TX...  /alana.k.doyle/?awsrc=   \n",
       "1  \\n5910 N Central Expy\\nSte 1040\\nDallas, TX 75...   /alex.swisher/?awsrc=   \n",
       "2  \\n5300 Town &amp; Country Blvd\\nSte 160\\nFrisc...     /amy.legate/?awsrc=   \n",
       "3  \\n1308 Village Creek Dr\\nSte 2000\\nPlano, TX 7...   /amy.m.ormsby/?awsrc=   \n",
       "4  \\n5960 Berkshire Ln Ste 1200\\n\\nDallas, TX 752...    /andee.sloot/?awsrc=   \n",
       "\n",
       "                                 team                correct_title  \n",
       "0                • Doyle & Associates  Associate Financial Advisor  \n",
       "1        • Jones, Cannon and Scofield            Financial Advisor  \n",
       "2   • Silverman LeGate and Associates            Financial Advisor  \n",
       "3                                                Financial Advisor  \n",
       "4       • LaunchPoint Wealth Advisors            Financial Advisor  "
      ]
     },
     "execution_count": 230,
     "metadata": {},
     "output_type": "execute_result"
    }
   ],
   "source": [
    "df.head()"
   ]
  },
  {
   "cell_type": "code",
   "execution_count": 237,
   "metadata": {},
   "outputs": [],
   "source": [
    "df['city, state, zip'] = df['address'].str.split('\\n', expand =True)[3]"
   ]
  },
  {
   "cell_type": "code",
   "execution_count": 240,
   "metadata": {},
   "outputs": [],
   "source": [
    "df['address1'] = df['address'].str.split('\\n', expand =True)[1]"
   ]
  },
  {
   "cell_type": "code",
   "execution_count": 243,
   "metadata": {},
   "outputs": [],
   "source": [
    "df['address2'] = df['address'].str.split('\\n', expand =True)[2]"
   ]
  },
  {
   "cell_type": "code",
   "execution_count": 248,
   "metadata": {
    "scrolled": true
   },
   "outputs": [],
   "source": [
    "df['link_to_website'] = df['link_to_website'].str[:-8]"
   ]
  },
  {
   "cell_type": "code",
   "execution_count": 250,
   "metadata": {},
   "outputs": [],
   "source": [
    "df['link'] = 'https://www.ameripriseadvisors.com/'"
   ]
  },
  {
   "cell_type": "code",
   "execution_count": 253,
   "metadata": {},
   "outputs": [],
   "source": [
    "df['link'] = df['link']+df['link_to_website'].astype(str)"
   ]
  },
  {
   "cell_type": "code",
   "execution_count": 254,
   "metadata": {},
   "outputs": [
    {
     "data": {
      "text/html": [
       "<div>\n",
       "<style scoped>\n",
       "    .dataframe tbody tr th:only-of-type {\n",
       "        vertical-align: middle;\n",
       "    }\n",
       "\n",
       "    .dataframe tbody tr th {\n",
       "        vertical-align: top;\n",
       "    }\n",
       "\n",
       "    .dataframe thead th {\n",
       "        text-align: right;\n",
       "    }\n",
       "</style>\n",
       "<table border=\"1\" class=\"dataframe\">\n",
       "  <thead>\n",
       "    <tr style=\"text-align: right;\">\n",
       "      <th></th>\n",
       "      <th>name</th>\n",
       "      <th>phone</th>\n",
       "      <th>email</th>\n",
       "      <th>address</th>\n",
       "      <th>link_to_website</th>\n",
       "      <th>team</th>\n",
       "      <th>correct_title</th>\n",
       "      <th>city, state, zip</th>\n",
       "      <th>address1</th>\n",
       "      <th>address2</th>\n",
       "      <th>link</th>\n",
       "    </tr>\n",
       "  </thead>\n",
       "  <tbody>\n",
       "    <tr>\n",
       "      <td>0</td>\n",
       "      <td>Alana Doyle</td>\n",
       "      <td>214.389.8515</td>\n",
       "      <td>Alana.K.Doyle@ampf.com</td>\n",
       "      <td>\\n2435 N Central Expy\\nSte 915\\nRichardson, TX...</td>\n",
       "      <td>/alana.k.doyle</td>\n",
       "      <td>• Doyle &amp; Associates</td>\n",
       "      <td>Associate Financial Advisor</td>\n",
       "      <td>Richardson, TX 75080-2753</td>\n",
       "      <td>2435 N Central Expy</td>\n",
       "      <td>Ste 915</td>\n",
       "      <td>https://www.ameripriseadvisors.com//alana.k.doyle</td>\n",
       "    </tr>\n",
       "    <tr>\n",
       "      <td>1</td>\n",
       "      <td>Alex Swisher</td>\n",
       "      <td>214.272.7919</td>\n",
       "      <td>Alex.Swisher@ampf.com</td>\n",
       "      <td>\\n5910 N Central Expy\\nSte 1040\\nDallas, TX 75...</td>\n",
       "      <td>/alex.swisher</td>\n",
       "      <td>• Jones, Cannon and Scofield</td>\n",
       "      <td>Financial Advisor</td>\n",
       "      <td>Dallas, TX 75206-0904</td>\n",
       "      <td>5910 N Central Expy</td>\n",
       "      <td>Ste 1040</td>\n",
       "      <td>https://www.ameripriseadvisors.com//alex.swisher</td>\n",
       "    </tr>\n",
       "    <tr>\n",
       "      <td>2</td>\n",
       "      <td>Amy Legate</td>\n",
       "      <td>214.469.0060</td>\n",
       "      <td>Amy.Legate@ampf.com</td>\n",
       "      <td>\\n5300 Town &amp;amp; Country Blvd\\nSte 160\\nFrisc...</td>\n",
       "      <td>/amy.legate</td>\n",
       "      <td>• Silverman LeGate and Associates</td>\n",
       "      <td>Financial Advisor</td>\n",
       "      <td>Frisco, TX 75034-6888</td>\n",
       "      <td>5300 Town &amp;amp; Country Blvd</td>\n",
       "      <td>Ste 160</td>\n",
       "      <td>https://www.ameripriseadvisors.com//amy.legate</td>\n",
       "    </tr>\n",
       "    <tr>\n",
       "      <td>3</td>\n",
       "      <td>Amy Ormsby</td>\n",
       "      <td>469.865.1082</td>\n",
       "      <td>AMY.M.ORMSBY@ampf.com</td>\n",
       "      <td>\\n1308 Village Creek Dr\\nSte 2000\\nPlano, TX 7...</td>\n",
       "      <td>/amy.m.ormsby</td>\n",
       "      <td></td>\n",
       "      <td>Financial Advisor</td>\n",
       "      <td>Plano, TX 75093-4464</td>\n",
       "      <td>1308 Village Creek Dr</td>\n",
       "      <td>Ste 2000</td>\n",
       "      <td>https://www.ameripriseadvisors.com//amy.m.ormsby</td>\n",
       "    </tr>\n",
       "    <tr>\n",
       "      <td>4</td>\n",
       "      <td>Andee Sloot</td>\n",
       "      <td>469.221.0413</td>\n",
       "      <td>Andee.Sloot@ampf.com</td>\n",
       "      <td>\\n5960 Berkshire Ln Ste 1200\\n\\nDallas, TX 752...</td>\n",
       "      <td>/andee.sloot</td>\n",
       "      <td>• LaunchPoint Wealth Advisors</td>\n",
       "      <td>Financial Advisor</td>\n",
       "      <td>Dallas, TX 75225-6069</td>\n",
       "      <td>5960 Berkshire Ln Ste 1200</td>\n",
       "      <td></td>\n",
       "      <td>https://www.ameripriseadvisors.com//andee.sloot</td>\n",
       "    </tr>\n",
       "  </tbody>\n",
       "</table>\n",
       "</div>"
      ],
      "text/plain": [
       "           name         phone                   email  \\\n",
       "0   Alana Doyle  214.389.8515  Alana.K.Doyle@ampf.com   \n",
       "1  Alex Swisher  214.272.7919   Alex.Swisher@ampf.com   \n",
       "2    Amy Legate  214.469.0060     Amy.Legate@ampf.com   \n",
       "3    Amy Ormsby  469.865.1082   AMY.M.ORMSBY@ampf.com   \n",
       "4   Andee Sloot  469.221.0413    Andee.Sloot@ampf.com   \n",
       "\n",
       "                                             address link_to_website  \\\n",
       "0  \\n2435 N Central Expy\\nSte 915\\nRichardson, TX...  /alana.k.doyle   \n",
       "1  \\n5910 N Central Expy\\nSte 1040\\nDallas, TX 75...   /alex.swisher   \n",
       "2  \\n5300 Town &amp; Country Blvd\\nSte 160\\nFrisc...     /amy.legate   \n",
       "3  \\n1308 Village Creek Dr\\nSte 2000\\nPlano, TX 7...   /amy.m.ormsby   \n",
       "4  \\n5960 Berkshire Ln Ste 1200\\n\\nDallas, TX 752...    /andee.sloot   \n",
       "\n",
       "                                 team                correct_title  \\\n",
       "0                • Doyle & Associates  Associate Financial Advisor   \n",
       "1        • Jones, Cannon and Scofield            Financial Advisor   \n",
       "2   • Silverman LeGate and Associates            Financial Advisor   \n",
       "3                                                Financial Advisor   \n",
       "4       • LaunchPoint Wealth Advisors            Financial Advisor   \n",
       "\n",
       "            city, state, zip                      address1  address2  \\\n",
       "0  Richardson, TX 75080-2753           2435 N Central Expy   Ste 915   \n",
       "1      Dallas, TX 75206-0904           5910 N Central Expy  Ste 1040   \n",
       "2      Frisco, TX 75034-6888  5300 Town &amp; Country Blvd   Ste 160   \n",
       "3       Plano, TX 75093-4464         1308 Village Creek Dr  Ste 2000   \n",
       "4      Dallas, TX 75225-6069    5960 Berkshire Ln Ste 1200             \n",
       "\n",
       "                                                link  \n",
       "0  https://www.ameripriseadvisors.com//alana.k.doyle  \n",
       "1   https://www.ameripriseadvisors.com//alex.swisher  \n",
       "2     https://www.ameripriseadvisors.com//amy.legate  \n",
       "3   https://www.ameripriseadvisors.com//amy.m.ormsby  \n",
       "4    https://www.ameripriseadvisors.com//andee.sloot  "
      ]
     },
     "execution_count": 254,
     "metadata": {},
     "output_type": "execute_result"
    }
   ],
   "source": [
    "df.head()"
   ]
  },
  {
   "cell_type": "code",
   "execution_count": 255,
   "metadata": {},
   "outputs": [
    {
     "data": {
      "text/plain": [
       "Index(['name', 'phone', 'email', 'address', 'link_to_website', 'team',\n",
       "       'correct_title', 'city, state, zip', 'address1', 'address2', 'link'],\n",
       "      dtype='object')"
      ]
     },
     "execution_count": 255,
     "metadata": {},
     "output_type": "execute_result"
    }
   ],
   "source": [
    "df.columns"
   ]
  },
  {
   "cell_type": "code",
   "execution_count": 259,
   "metadata": {},
   "outputs": [],
   "source": [
    "new_cols = df.columns.to_list()"
   ]
  },
  {
   "cell_type": "code",
   "execution_count": 262,
   "metadata": {},
   "outputs": [],
   "source": [
    "new_cols.remove('address')"
   ]
  },
  {
   "cell_type": "code",
   "execution_count": 266,
   "metadata": {},
   "outputs": [],
   "source": [
    "new_cols.remove('link_to_website')"
   ]
  },
  {
   "cell_type": "code",
   "execution_count": 269,
   "metadata": {},
   "outputs": [],
   "source": [
    "df = df[new_cols]"
   ]
  },
  {
   "cell_type": "code",
   "execution_count": 275,
   "metadata": {},
   "outputs": [
    {
     "name": "stderr",
     "output_type": "stream",
     "text": [
      "/Users/johnrick/opt/anaconda3/lib/python3.7/site-packages/ipykernel_launcher.py:1: SettingWithCopyWarning: \n",
      "A value is trying to be set on a copy of a slice from a DataFrame.\n",
      "Try using .loc[row_indexer,col_indexer] = value instead\n",
      "\n",
      "See the caveats in the documentation: http://pandas.pydata.org/pandas-docs/stable/user_guide/indexing.html#returning-a-view-versus-a-copy\n",
      "  \"\"\"Entry point for launching an IPython kernel.\n"
     ]
    }
   ],
   "source": [
    "df['city'] = df['city, state, zip'].str.split(', ', expand=True)[0]"
   ]
  },
  {
   "cell_type": "code",
   "execution_count": 278,
   "metadata": {},
   "outputs": [],
   "source": [
    "df['zip'] = df['city, state, zip'].str.split(', ', expand=True)[1]"
   ]
  },
  {
   "cell_type": "code",
   "execution_count": 283,
   "metadata": {},
   "outputs": [],
   "source": [
    "df['zip']= df['zip'].str[3:]"
   ]
  },
  {
   "cell_type": "code",
   "execution_count": 287,
   "metadata": {},
   "outputs": [
    {
     "data": {
      "text/plain": [
       "['name',\n",
       " 'phone',\n",
       " 'email',\n",
       " 'team',\n",
       " 'correct_title',\n",
       " 'city, state, zip',\n",
       " 'address1',\n",
       " 'address2',\n",
       " 'link',\n",
       " 'city',\n",
       " 'zip']"
      ]
     },
     "execution_count": 287,
     "metadata": {},
     "output_type": "execute_result"
    }
   ],
   "source": [
    "df.columns.to_list()"
   ]
  },
  {
   "cell_type": "code",
   "execution_count": null,
   "metadata": {},
   "outputs": [],
   "source": [
    "\n",
    "\n"
   ]
  },
  {
   "cell_type": "code",
   "execution_count": 288,
   "metadata": {},
   "outputs": [],
   "source": [
    "new_cols = ['name', 'team', 'phone', 'email', 'address1', 'address2', 'city', 'zip', 'link', 'correct_title']"
   ]
  },
  {
   "cell_type": "code",
   "execution_count": 290,
   "metadata": {},
   "outputs": [],
   "source": [
    "df = df[new_cols]"
   ]
  },
  {
   "cell_type": "code",
   "execution_count": 298,
   "metadata": {},
   "outputs": [
    {
     "name": "stderr",
     "output_type": "stream",
     "text": [
      "/Users/johnrick/opt/anaconda3/lib/python3.7/site-packages/ipykernel_launcher.py:1: SettingWithCopyWarning: \n",
      "A value is trying to be set on a copy of a slice from a DataFrame.\n",
      "Try using .loc[row_indexer,col_indexer] = value instead\n",
      "\n",
      "See the caveats in the documentation: http://pandas.pydata.org/pandas-docs/stable/user_guide/indexing.html#returning-a-view-versus-a-copy\n",
      "  \"\"\"Entry point for launching an IPython kernel.\n"
     ]
    }
   ],
   "source": [
    "df['team'] = df['team'].str[3:]"
   ]
  },
  {
   "cell_type": "code",
   "execution_count": 308,
   "metadata": {},
   "outputs": [],
   "source": [
    "df = df.sort_values(by=['city', 'address1', 'team'])"
   ]
  },
  {
   "cell_type": "code",
   "execution_count": 309,
   "metadata": {},
   "outputs": [],
   "source": [
    "df.reset_index(inplace=True)"
   ]
  },
  {
   "cell_type": "code",
   "execution_count": 312,
   "metadata": {},
   "outputs": [],
   "source": [
    "df.drop(columns = ['level_0','index'], inplace=True)"
   ]
  },
  {
   "cell_type": "code",
   "execution_count": null,
   "metadata": {},
   "outputs": [],
   "source": []
  },
  {
   "cell_type": "code",
   "execution_count": 313,
   "metadata": {},
   "outputs": [],
   "source": [
    "df.to_csv('morski_ameriprise_fixed.csv')"
   ]
  },
  {
   "cell_type": "code",
   "execution_count": 301,
   "metadata": {},
   "outputs": [
    {
     "data": {
      "text/html": [
       "<div>\n",
       "<style scoped>\n",
       "    .dataframe tbody tr th:only-of-type {\n",
       "        vertical-align: middle;\n",
       "    }\n",
       "\n",
       "    .dataframe tbody tr th {\n",
       "        vertical-align: top;\n",
       "    }\n",
       "\n",
       "    .dataframe thead th {\n",
       "        text-align: right;\n",
       "    }\n",
       "</style>\n",
       "<table border=\"1\" class=\"dataframe\">\n",
       "  <thead>\n",
       "    <tr style=\"text-align: right;\">\n",
       "      <th></th>\n",
       "      <th>name</th>\n",
       "      <th>team</th>\n",
       "      <th>phone</th>\n",
       "      <th>email</th>\n",
       "      <th>address1</th>\n",
       "      <th>address2</th>\n",
       "      <th>city</th>\n",
       "      <th>zip</th>\n",
       "      <th>link</th>\n",
       "      <th>correct_title</th>\n",
       "    </tr>\n",
       "  </thead>\n",
       "  <tbody>\n",
       "    <tr>\n",
       "      <td>153</td>\n",
       "      <td>Verus Wealth Advisors</td>\n",
       "      <td></td>\n",
       "      <td>972.398.8599</td>\n",
       "      <td>charles.c.lee@ampf.com</td>\n",
       "      <td>2435 N Central Expy</td>\n",
       "      <td>Ste 870</td>\n",
       "      <td>Richardson</td>\n",
       "      <td>75080-2737</td>\n",
       "      <td>https://www.ameripriseadvisors.com//team/verus...</td>\n",
       "      <td></td>\n",
       "    </tr>\n",
       "    <tr>\n",
       "      <td>154</td>\n",
       "      <td>Waterfront Wealth Management</td>\n",
       "      <td></td>\n",
       "      <td>504.889.1704</td>\n",
       "      <td>rufus.p.cressend@ampf.com</td>\n",
       "      <td>5172 Village Creek Drive</td>\n",
       "      <td>Unit 104</td>\n",
       "      <td>Plano</td>\n",
       "      <td>75093</td>\n",
       "      <td>https://www.ameripriseadvisors.com//team/water...</td>\n",
       "      <td></td>\n",
       "    </tr>\n",
       "    <tr>\n",
       "      <td>155</td>\n",
       "      <td>Watters Creek Wealth Management</td>\n",
       "      <td></td>\n",
       "      <td>972.954.1595</td>\n",
       "      <td>clint.w.wammack@ampf.com</td>\n",
       "      <td>700 Central Expy S</td>\n",
       "      <td>Ste 380</td>\n",
       "      <td>Allen</td>\n",
       "      <td>75013-8110</td>\n",
       "      <td>https://www.ameripriseadvisors.com//team/watte...</td>\n",
       "      <td></td>\n",
       "    </tr>\n",
       "    <tr>\n",
       "      <td>156</td>\n",
       "      <td>William Burmeier</td>\n",
       "      <td>Leading Edge Advisors</td>\n",
       "      <td>214.445.0623</td>\n",
       "      <td>william.g.burmeier@ampf.com</td>\n",
       "      <td>4504 Legacy Dr</td>\n",
       "      <td>Ste 200</td>\n",
       "      <td>Plano</td>\n",
       "      <td>75024-2188</td>\n",
       "      <td>https://www.ameripriseadvisors.com//william.g....</td>\n",
       "      <td>Financial Advisor</td>\n",
       "    </tr>\n",
       "    <tr>\n",
       "      <td>157</td>\n",
       "      <td>Zeph Rouquette</td>\n",
       "      <td>Milestone Partners</td>\n",
       "      <td>214.420.7444</td>\n",
       "      <td>zeph.a.rouquette@ampf.com</td>\n",
       "      <td>3610 Shire Blvd Ste 212</td>\n",
       "      <td></td>\n",
       "      <td>Richardson</td>\n",
       "      <td>75082-2239</td>\n",
       "      <td>https://www.ameripriseadvisors.com//zeph.a.rou...</td>\n",
       "      <td>Financial Advisor</td>\n",
       "    </tr>\n",
       "  </tbody>\n",
       "</table>\n",
       "</div>"
      ],
      "text/plain": [
       "                                name                   team         phone  \\\n",
       "153            Verus Wealth Advisors                         972.398.8599   \n",
       "154     Waterfront Wealth Management                         504.889.1704   \n",
       "155  Watters Creek Wealth Management                         972.954.1595   \n",
       "156                 William Burmeier  Leading Edge Advisors  214.445.0623   \n",
       "157                   Zeph Rouquette     Milestone Partners  214.420.7444   \n",
       "\n",
       "                           email                  address1  address2  \\\n",
       "153       charles.c.lee@ampf.com       2435 N Central Expy   Ste 870   \n",
       "154    rufus.p.cressend@ampf.com  5172 Village Creek Drive  Unit 104   \n",
       "155     clint.w.wammack@ampf.com        700 Central Expy S   Ste 380   \n",
       "156  william.g.burmeier@ampf.com            4504 Legacy Dr   Ste 200   \n",
       "157    zeph.a.rouquette@ampf.com   3610 Shire Blvd Ste 212             \n",
       "\n",
       "           city         zip  \\\n",
       "153  Richardson  75080-2737   \n",
       "154       Plano       75093   \n",
       "155       Allen  75013-8110   \n",
       "156       Plano  75024-2188   \n",
       "157  Richardson  75082-2239   \n",
       "\n",
       "                                                  link      correct_title  \n",
       "153  https://www.ameripriseadvisors.com//team/verus...                     \n",
       "154  https://www.ameripriseadvisors.com//team/water...                     \n",
       "155  https://www.ameripriseadvisors.com//team/watte...                     \n",
       "156  https://www.ameripriseadvisors.com//william.g....  Financial Advisor  \n",
       "157  https://www.ameripriseadvisors.com//zeph.a.rou...  Financial Advisor  "
      ]
     },
     "execution_count": 301,
     "metadata": {},
     "output_type": "execute_result"
    }
   ],
   "source": [
    "df.tail()"
   ]
  }
 ],
 "metadata": {
  "kernelspec": {
   "display_name": "Python 3",
   "language": "python",
   "name": "python3"
  },
  "language_info": {
   "codemirror_mode": {
    "name": "ipython",
    "version": 3
   },
   "file_extension": ".py",
   "mimetype": "text/x-python",
   "name": "python",
   "nbconvert_exporter": "python",
   "pygments_lexer": "ipython3",
   "version": "3.7.4"
  },
  "toc": {
   "base_numbering": 1,
   "nav_menu": {},
   "number_sections": true,
   "sideBar": true,
   "skip_h1_title": false,
   "title_cell": "Table of Contents",
   "title_sidebar": "Contents",
   "toc_cell": false,
   "toc_position": {
    "height": "calc(100% - 180px)",
    "left": "10px",
    "top": "150px",
    "width": "192px"
   },
   "toc_section_display": true,
   "toc_window_display": true
  }
 },
 "nbformat": 4,
 "nbformat_minor": 2
}
